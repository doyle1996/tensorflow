{
 "cells": [
  {
   "cell_type": "code",
   "execution_count": 1,
   "metadata": {},
   "outputs": [],
   "source": [
    "import tensorflow as tf\n",
    "from tensorflow import keras\n",
    "import pandas as pd\n",
    "import matplotlib.pyplot as plt"
   ]
  },
  {
   "cell_type": "code",
   "execution_count": 2,
   "metadata": {},
   "outputs": [],
   "source": [
    "data=pd.read_csv('credit-a.csv',header=None)"
   ]
  },
  {
   "cell_type": "code",
   "execution_count": 3,
   "metadata": {},
   "outputs": [
    {
     "data": {
      "text/html": [
       "<div>\n",
       "<style scoped>\n",
       "    .dataframe tbody tr th:only-of-type {\n",
       "        vertical-align: middle;\n",
       "    }\n",
       "\n",
       "    .dataframe tbody tr th {\n",
       "        vertical-align: top;\n",
       "    }\n",
       "\n",
       "    .dataframe thead th {\n",
       "        text-align: right;\n",
       "    }\n",
       "</style>\n",
       "<table border=\"1\" class=\"dataframe\">\n",
       "  <thead>\n",
       "    <tr style=\"text-align: right;\">\n",
       "      <th></th>\n",
       "      <th>0</th>\n",
       "      <th>1</th>\n",
       "      <th>2</th>\n",
       "      <th>3</th>\n",
       "      <th>4</th>\n",
       "      <th>5</th>\n",
       "      <th>6</th>\n",
       "      <th>7</th>\n",
       "      <th>8</th>\n",
       "      <th>9</th>\n",
       "      <th>10</th>\n",
       "      <th>11</th>\n",
       "      <th>12</th>\n",
       "      <th>13</th>\n",
       "      <th>14</th>\n",
       "      <th>15</th>\n",
       "    </tr>\n",
       "  </thead>\n",
       "  <tbody>\n",
       "    <tr>\n",
       "      <th>0</th>\n",
       "      <td>0</td>\n",
       "      <td>30.83</td>\n",
       "      <td>0.000</td>\n",
       "      <td>0</td>\n",
       "      <td>0</td>\n",
       "      <td>9</td>\n",
       "      <td>0</td>\n",
       "      <td>1.25</td>\n",
       "      <td>0</td>\n",
       "      <td>0</td>\n",
       "      <td>1</td>\n",
       "      <td>1</td>\n",
       "      <td>0</td>\n",
       "      <td>202</td>\n",
       "      <td>0.0</td>\n",
       "      <td>-1</td>\n",
       "    </tr>\n",
       "    <tr>\n",
       "      <th>1</th>\n",
       "      <td>1</td>\n",
       "      <td>58.67</td>\n",
       "      <td>4.460</td>\n",
       "      <td>0</td>\n",
       "      <td>0</td>\n",
       "      <td>8</td>\n",
       "      <td>1</td>\n",
       "      <td>3.04</td>\n",
       "      <td>0</td>\n",
       "      <td>0</td>\n",
       "      <td>6</td>\n",
       "      <td>1</td>\n",
       "      <td>0</td>\n",
       "      <td>43</td>\n",
       "      <td>560.0</td>\n",
       "      <td>-1</td>\n",
       "    </tr>\n",
       "    <tr>\n",
       "      <th>2</th>\n",
       "      <td>1</td>\n",
       "      <td>24.50</td>\n",
       "      <td>0.500</td>\n",
       "      <td>0</td>\n",
       "      <td>0</td>\n",
       "      <td>8</td>\n",
       "      <td>1</td>\n",
       "      <td>1.50</td>\n",
       "      <td>0</td>\n",
       "      <td>1</td>\n",
       "      <td>0</td>\n",
       "      <td>1</td>\n",
       "      <td>0</td>\n",
       "      <td>280</td>\n",
       "      <td>824.0</td>\n",
       "      <td>-1</td>\n",
       "    </tr>\n",
       "    <tr>\n",
       "      <th>3</th>\n",
       "      <td>0</td>\n",
       "      <td>27.83</td>\n",
       "      <td>1.540</td>\n",
       "      <td>0</td>\n",
       "      <td>0</td>\n",
       "      <td>9</td>\n",
       "      <td>0</td>\n",
       "      <td>3.75</td>\n",
       "      <td>0</td>\n",
       "      <td>0</td>\n",
       "      <td>5</td>\n",
       "      <td>0</td>\n",
       "      <td>0</td>\n",
       "      <td>100</td>\n",
       "      <td>3.0</td>\n",
       "      <td>-1</td>\n",
       "    </tr>\n",
       "    <tr>\n",
       "      <th>4</th>\n",
       "      <td>0</td>\n",
       "      <td>20.17</td>\n",
       "      <td>5.625</td>\n",
       "      <td>0</td>\n",
       "      <td>0</td>\n",
       "      <td>9</td>\n",
       "      <td>0</td>\n",
       "      <td>1.71</td>\n",
       "      <td>0</td>\n",
       "      <td>1</td>\n",
       "      <td>0</td>\n",
       "      <td>1</td>\n",
       "      <td>2</td>\n",
       "      <td>120</td>\n",
       "      <td>0.0</td>\n",
       "      <td>-1</td>\n",
       "    </tr>\n",
       "  </tbody>\n",
       "</table>\n",
       "</div>"
      ],
      "text/plain": [
       "   0      1      2   3   4   5   6     7   8   9   10  11  12   13     14  15\n",
       "0   0  30.83  0.000   0   0   9   0  1.25   0   0   1   1   0  202    0.0  -1\n",
       "1   1  58.67  4.460   0   0   8   1  3.04   0   0   6   1   0   43  560.0  -1\n",
       "2   1  24.50  0.500   0   0   8   1  1.50   0   1   0   1   0  280  824.0  -1\n",
       "3   0  27.83  1.540   0   0   9   0  3.75   0   0   5   0   0  100    3.0  -1\n",
       "4   0  20.17  5.625   0   0   9   0  1.71   0   1   0   1   2  120    0.0  -1"
      ]
     },
     "execution_count": 3,
     "metadata": {},
     "output_type": "execute_result"
    }
   ],
   "source": [
    "data.head()"
   ]
  },
  {
   "cell_type": "code",
   "execution_count": 4,
   "metadata": {},
   "outputs": [
    {
     "data": {
      "text/plain": [
       " 1    357\n",
       "-1    296\n",
       "Name: 15, dtype: int64"
      ]
     },
     "execution_count": 4,
     "metadata": {},
     "output_type": "execute_result"
    }
   ],
   "source": [
    "data.iloc[:,-1].value_counts()"
   ]
  },
  {
   "cell_type": "code",
   "execution_count": 5,
   "metadata": {},
   "outputs": [],
   "source": [
    "x=data.iloc[:,:-1]\n",
    "y=data.iloc[:,-1].replace(-1,0) "
   ]
  },
  {
   "cell_type": "code",
   "execution_count": 6,
   "metadata": {},
   "outputs": [],
   "source": [
    "model=tf.keras.Sequential()"
   ]
  },
  {
   "cell_type": "code",
   "execution_count": 7,
   "metadata": {},
   "outputs": [],
   "source": [
    "model.add(tf.keras.layers.Dense(4,activation='relu',input_shape=[15,]))\n",
    "model.add(tf.keras.layers.Dense(4,activation='relu'))\n",
    "model.add(tf.keras.layers.Dense(1,activation='sigmoid'))\n"
   ]
  },
  {
   "cell_type": "code",
   "execution_count": 8,
   "metadata": {},
   "outputs": [
    {
     "name": "stdout",
     "output_type": "stream",
     "text": [
      "Model: \"sequential\"\n",
      "_________________________________________________________________\n",
      "Layer (type)                 Output Shape              Param #   \n",
      "=================================================================\n",
      "dense (Dense)                (None, 4)                 64        \n",
      "_________________________________________________________________\n",
      "dense_1 (Dense)              (None, 4)                 20        \n",
      "_________________________________________________________________\n",
      "dense_2 (Dense)              (None, 1)                 5         \n",
      "=================================================================\n",
      "Total params: 89\n",
      "Trainable params: 89\n",
      "Non-trainable params: 0\n",
      "_________________________________________________________________\n"
     ]
    }
   ],
   "source": [
    "model.summary()"
   ]
  },
  {
   "cell_type": "code",
   "execution_count": 9,
   "metadata": {},
   "outputs": [],
   "source": [
    "model.compile(optimizer='adam',loss='binary_crossentropy',metrics=['acc'])"
   ]
  },
  {
   "cell_type": "code",
   "execution_count": 10,
   "metadata": {},
   "outputs": [
    {
     "name": "stdout",
     "output_type": "stream",
     "text": [
      "WARNING:tensorflow:Falling back from v2 loop because of error: Failed to find data adapter that can handle input: <class 'pandas.core.frame.DataFrame'>, <class 'NoneType'>\n",
      "Train on 653 samples\n",
      "Epoch 1/100\n",
      "653/653 [==============================] - 1s 1ms/sample - loss: 0.6962 - acc: 0.5268\n",
      "Epoch 2/100\n",
      "653/653 [==============================] - 0s 81us/sample - loss: 0.6940 - acc: 0.5467\n",
      "Epoch 3/100\n",
      "653/653 [==============================] - 0s 73us/sample - loss: 0.6932 - acc: 0.5467\n",
      "Epoch 4/100\n",
      "653/653 [==============================] - 0s 67us/sample - loss: 0.6921 - acc: 0.5467\n",
      "Epoch 5/100\n",
      "653/653 [==============================] - 0s 72us/sample - loss: 0.6914 - acc: 0.5467\n",
      "Epoch 6/100\n",
      "653/653 [==============================] - 0s 77us/sample - loss: 0.6909 - acc: 0.5467\n",
      "Epoch 7/100\n",
      "653/653 [==============================] - 0s 66us/sample - loss: 0.6904 - acc: 0.5498\n",
      "Epoch 8/100\n",
      "653/653 [==============================] - 0s 55us/sample - loss: 0.6900 - acc: 0.5498\n",
      "Epoch 9/100\n",
      "653/653 [==============================] - 0s 52us/sample - loss: 0.6897 - acc: 0.5498\n",
      "Epoch 10/100\n",
      "653/653 [==============================] - 0s 52us/sample - loss: 0.6894 - acc: 0.5498\n",
      "Epoch 11/100\n",
      "653/653 [==============================] - 0s 55us/sample - loss: 0.6891 - acc: 0.5498\n",
      "Epoch 12/100\n",
      "653/653 [==============================] - 0s 64us/sample - loss: 0.6888 - acc: 0.5498\n",
      "Epoch 13/100\n",
      "653/653 [==============================] - 0s 64us/sample - loss: 0.6887 - acc: 0.5498\n",
      "Epoch 14/100\n",
      "653/653 [==============================] - 0s 60us/sample - loss: 0.6883 - acc: 0.5498\n",
      "Epoch 15/100\n",
      "653/653 [==============================] - 0s 70us/sample - loss: 0.6881 - acc: 0.5498\n",
      "Epoch 16/100\n",
      "653/653 [==============================] - 0s 51us/sample - loss: 0.6880 - acc: 0.5498\n",
      "Epoch 17/100\n",
      "653/653 [==============================] - 0s 60us/sample - loss: 0.6878 - acc: 0.5498\n",
      "Epoch 18/100\n",
      "653/653 [==============================] - 0s 66us/sample - loss: 0.6876 - acc: 0.5498\n",
      "Epoch 19/100\n",
      "653/653 [==============================] - 0s 52us/sample - loss: 0.6875 - acc: 0.5498\n",
      "Epoch 20/100\n",
      "653/653 [==============================] - 0s 52us/sample - loss: 0.6874 - acc: 0.5498\n",
      "Epoch 21/100\n",
      "653/653 [==============================] - 0s 67us/sample - loss: 0.6872 - acc: 0.5498\n",
      "Epoch 22/100\n",
      "653/653 [==============================] - 0s 57us/sample - loss: 0.6871 - acc: 0.5498\n",
      "Epoch 23/100\n",
      "653/653 [==============================] - 0s 49us/sample - loss: 0.6870 - acc: 0.5498\n",
      "Epoch 24/100\n",
      "653/653 [==============================] - 0s 70us/sample - loss: 0.6869 - acc: 0.5498\n",
      "Epoch 25/100\n",
      "653/653 [==============================] - 0s 66us/sample - loss: 0.6868 - acc: 0.5498\n",
      "Epoch 26/100\n",
      "653/653 [==============================] - 0s 63us/sample - loss: 0.6868 - acc: 0.5467\n",
      "Epoch 27/100\n",
      "653/653 [==============================] - 0s 51us/sample - loss: 0.6862 - acc: 0.5482\n",
      "Epoch 28/100\n",
      "653/653 [==============================] - 0s 61us/sample - loss: 0.6859 - acc: 0.5498\n",
      "Epoch 29/100\n",
      "653/653 [==============================] - 0s 61us/sample - loss: 0.6857 - acc: 0.5498\n",
      "Epoch 30/100\n",
      "653/653 [==============================] - 0s 61us/sample - loss: 0.6853 - acc: 0.5528\n",
      "Epoch 31/100\n",
      "653/653 [==============================] - 0s 63us/sample - loss: 0.6846 - acc: 0.5544\n",
      "Epoch 32/100\n",
      "653/653 [==============================] - 0s 61us/sample - loss: 0.6843 - acc: 0.5544\n",
      "Epoch 33/100\n",
      "653/653 [==============================] - 0s 52us/sample - loss: 0.6840 - acc: 0.5544\n",
      "Epoch 34/100\n",
      "653/653 [==============================] - 0s 70us/sample - loss: 0.6838 - acc: 0.5528\n",
      "Epoch 35/100\n",
      "653/653 [==============================] - 0s 67us/sample - loss: 0.6837 - acc: 0.5544\n",
      "Epoch 36/100\n",
      "653/653 [==============================] - 0s 50us/sample - loss: 0.6832 - acc: 0.5544\n",
      "Epoch 37/100\n",
      "653/653 [==============================] - 0s 49us/sample - loss: 0.6829 - acc: 0.5559\n",
      "Epoch 38/100\n",
      "653/653 [==============================] - 0s 61us/sample - loss: 0.6829 - acc: 0.5559\n",
      "Epoch 39/100\n",
      "653/653 [==============================] - 0s 63us/sample - loss: 0.6828 - acc: 0.5544\n",
      "Epoch 40/100\n",
      "653/653 [==============================] - 0s 51us/sample - loss: 0.6825 - acc: 0.5559\n",
      "Epoch 41/100\n",
      "653/653 [==============================] - 0s 50us/sample - loss: 0.6822 - acc: 0.5559\n",
      "Epoch 42/100\n",
      "653/653 [==============================] - 0s 70us/sample - loss: 0.6820 - acc: 0.5559\n",
      "Epoch 43/100\n",
      "653/653 [==============================] - 0s 58us/sample - loss: 0.6817 - acc: 0.5559\n",
      "Epoch 44/100\n",
      "653/653 [==============================] - ETA: 0s - loss: 0.6566 - acc: 0.625 - 0s 78us/sample - loss: 0.6814 - acc: 0.5574\n",
      "Epoch 45/100\n",
      "653/653 [==============================] - 0s 78us/sample - loss: 0.6810 - acc: 0.5590\n",
      "Epoch 46/100\n",
      "653/653 [==============================] - 0s 63us/sample - loss: 0.6805 - acc: 0.5590\n",
      "Epoch 47/100\n",
      "653/653 [==============================] - 0s 142us/sample - loss: 0.6801 - acc: 0.5590\n",
      "Epoch 48/100\n",
      "653/653 [==============================] - 0s 47us/sample - loss: 0.6798 - acc: 0.5605\n",
      "Epoch 49/100\n",
      "653/653 [==============================] - 0s 64us/sample - loss: 0.6787 - acc: 0.5620\n",
      "Epoch 50/100\n",
      "653/653 [==============================] - 0s 48us/sample - loss: 0.6784 - acc: 0.5620\n",
      "Epoch 51/100\n",
      "653/653 [==============================] - 0s 70us/sample - loss: 0.6779 - acc: 0.5620\n",
      "Epoch 52/100\n",
      "653/653 [==============================] - 0s 58us/sample - loss: 0.6768 - acc: 0.5651\n",
      "Epoch 53/100\n",
      "653/653 [==============================] - 0s 54us/sample - loss: 0.6764 - acc: 0.5651\n",
      "Epoch 54/100\n",
      "653/653 [==============================] - 0s 66us/sample - loss: 0.6753 - acc: 0.5666\n",
      "Epoch 55/100\n",
      "653/653 [==============================] - 0s 63us/sample - loss: 0.6745 - acc: 0.5651\n",
      "Epoch 56/100\n",
      "653/653 [==============================] - 0s 63us/sample - loss: 0.6741 - acc: 0.5651\n",
      "Epoch 57/100\n",
      "653/653 [==============================] - 0s 60us/sample - loss: 0.6739 - acc: 0.5651\n",
      "Epoch 58/100\n",
      "653/653 [==============================] - 0s 55us/sample - loss: 0.6736 - acc: 0.5651\n",
      "Epoch 59/100\n",
      "653/653 [==============================] - 0s 61us/sample - loss: 0.6728 - acc: 0.5681\n",
      "Epoch 60/100\n",
      "653/653 [==============================] - 0s 64us/sample - loss: 0.6726 - acc: 0.5697\n",
      "Epoch 61/100\n",
      "653/653 [==============================] - 0s 51us/sample - loss: 0.6722 - acc: 0.5697\n",
      "Epoch 62/100\n",
      "653/653 [==============================] - 0s 52us/sample - loss: 0.6720 - acc: 0.5697\n",
      "Epoch 63/100\n",
      "653/653 [==============================] - 0s 58us/sample - loss: 0.6719 - acc: 0.5681\n",
      "Epoch 64/100\n",
      "653/653 [==============================] - 0s 60us/sample - loss: 0.6716 - acc: 0.5712\n",
      "Epoch 65/100\n",
      "653/653 [==============================] - 0s 63us/sample - loss: 0.6714 - acc: 0.5712\n",
      "Epoch 66/100\n",
      "653/653 [==============================] - 0s 63us/sample - loss: 0.6712 - acc: 0.5712\n",
      "Epoch 67/100\n",
      "653/653 [==============================] - 0s 49us/sample - loss: 0.6711 - acc: 0.5712\n",
      "Epoch 68/100\n",
      "653/653 [==============================] - 0s 64us/sample - loss: 0.6710 - acc: 0.5712\n",
      "Epoch 69/100\n",
      "653/653 [==============================] - 0s 70us/sample - loss: 0.6710 - acc: 0.5712\n",
      "Epoch 70/100\n",
      "653/653 [==============================] - 0s 49us/sample - loss: 0.6708 - acc: 0.5712\n",
      "Epoch 71/100\n",
      "653/653 [==============================] - 0s 52us/sample - loss: 0.6707 - acc: 0.5712\n",
      "Epoch 72/100\n",
      "653/653 [==============================] - 0s 66us/sample - loss: 0.6706 - acc: 0.5712\n",
      "Epoch 73/100\n",
      "653/653 [==============================] - 0s 70us/sample - loss: 0.6706 - acc: 0.5712\n",
      "Epoch 74/100\n",
      "653/653 [==============================] - 0s 60us/sample - loss: 0.6705 - acc: 0.5712\n",
      "Epoch 75/100\n",
      "653/653 [==============================] - 0s 61us/sample - loss: 0.6704 - acc: 0.5712\n",
      "Epoch 76/100\n",
      "653/653 [==============================] - 0s 55us/sample - loss: 0.6703 - acc: 0.5712\n",
      "Epoch 77/100\n",
      "653/653 [==============================] - 0s 61us/sample - loss: 0.6704 - acc: 0.5712\n",
      "Epoch 78/100\n",
      "653/653 [==============================] - 0s 60us/sample - loss: 0.6702 - acc: 0.5712\n",
      "Epoch 79/100\n",
      "653/653 [==============================] - 0s 64us/sample - loss: 0.6702 - acc: 0.5712\n",
      "Epoch 80/100\n"
     ]
    },
    {
     "name": "stdout",
     "output_type": "stream",
     "text": [
      "653/653 [==============================] - 0s 61us/sample - loss: 0.6701 - acc: 0.5712\n",
      "Epoch 81/100\n",
      "653/653 [==============================] - 0s 61us/sample - loss: 0.6700 - acc: 0.5712\n",
      "Epoch 82/100\n",
      "653/653 [==============================] - 0s 61us/sample - loss: 0.6700 - acc: 0.5712\n",
      "Epoch 83/100\n",
      "653/653 [==============================] - 0s 63us/sample - loss: 0.6699 - acc: 0.5712\n",
      "Epoch 84/100\n",
      "653/653 [==============================] - 0s 51us/sample - loss: 0.6700 - acc: 0.5712\n",
      "Epoch 85/100\n",
      "653/653 [==============================] - 0s 60us/sample - loss: 0.6698 - acc: 0.5712\n",
      "Epoch 86/100\n",
      "653/653 [==============================] - 0s 55us/sample - loss: 0.6697 - acc: 0.5712\n",
      "Epoch 87/100\n",
      "653/653 [==============================] - 0s 52us/sample - loss: 0.6698 - acc: 0.5697\n",
      "Epoch 88/100\n",
      "653/653 [==============================] - 0s 58us/sample - loss: 0.6695 - acc: 0.5712\n",
      "Epoch 89/100\n",
      "653/653 [==============================] - 0s 58us/sample - loss: 0.6694 - acc: 0.5712\n",
      "Epoch 90/100\n",
      "653/653 [==============================] - 0s 61us/sample - loss: 0.6694 - acc: 0.5712\n",
      "Epoch 91/100\n",
      "653/653 [==============================] - 0s 64us/sample - loss: 0.6693 - acc: 0.5712\n",
      "Epoch 92/100\n",
      "653/653 [==============================] - 0s 63us/sample - loss: 0.6693 - acc: 0.5712\n",
      "Epoch 93/100\n",
      "653/653 [==============================] - 0s 61us/sample - loss: 0.6693 - acc: 0.5712\n",
      "Epoch 94/100\n",
      "653/653 [==============================] - 0s 66us/sample - loss: 0.6692 - acc: 0.5712\n",
      "Epoch 95/100\n",
      "653/653 [==============================] - 0s 60us/sample - loss: 0.6692 - acc: 0.5727\n",
      "Epoch 96/100\n",
      "653/653 [==============================] - 0s 46us/sample - loss: 0.6691 - acc: 0.5727\n",
      "Epoch 97/100\n",
      "653/653 [==============================] - 0s 63us/sample - loss: 0.6690 - acc: 0.5727\n",
      "Epoch 98/100\n",
      "653/653 [==============================] - 0s 64us/sample - loss: 0.6690 - acc: 0.5727\n",
      "Epoch 99/100\n",
      "653/653 [==============================] - 0s 64us/sample - loss: 0.6689 - acc: 0.5727\n",
      "Epoch 100/100\n",
      "653/653 [==============================] - 0s 60us/sample - loss: 0.6689 - acc: 0.5727\n"
     ]
    }
   ],
   "source": [
    "history=model.fit(x,y,epochs=100)"
   ]
  },
  {
   "cell_type": "code",
   "execution_count": 11,
   "metadata": {},
   "outputs": [
    {
     "data": {
      "text/plain": [
       "dict_keys(['loss', 'acc'])"
      ]
     },
     "execution_count": 11,
     "metadata": {},
     "output_type": "execute_result"
    }
   ],
   "source": [
    "history.history.keys()"
   ]
  },
  {
   "cell_type": "code",
   "execution_count": 13,
   "metadata": {},
   "outputs": [
    {
     "data": {
      "text/plain": [
       "[<matplotlib.lines.Line2D at 0x2a221a2e3c8>]"
      ]
     },
     "execution_count": 13,
     "metadata": {},
     "output_type": "execute_result"
    },
    {
     "data": {
      "image/png": "[encoded data removed]",
      "text/plain": [
       "<Figure size 432x288 with 1 Axes>"
      ]
     },
     "metadata": {
      "needs_background": "light"
     },
     "output_type": "display_data"
    }
   ],
   "source": [
    "plt.plot(history.epoch,history.history.get('acc'))"
   ]
  },
  {
   "cell_type": "code",
   "execution_count": 14,
   "metadata": {},
   "outputs": [
    {
     "data": {
      "text/plain": [
       "[<matplotlib.lines.Line2D at 0x2a221b7c908>]"
      ]
     },
     "execution_count": 14,
     "metadata": {},
     "output_type": "execute_result"
    },
    {
     "data": {
      "image/png": "[encoded data removed]",
      "text/plain": [
       "<Figure size 432x288 with 1 Axes>"
      ]
     },
     "metadata": {
      "needs_background": "light"
     },
     "output_type": "display_data"
    }
   ],
   "source": [
    "plt.plot(history.epoch,history.history.get('loss'))"
   ]
  },
  {
   "cell_type": "code",
   "execution_count": null,
   "metadata": {},
   "outputs": [],
   "source": []
  }
 ],
 "metadata": {
  "kernelspec": {
   "display_name": "Python 3",
   "language": "python",
   "name": "python3"
  },
  "language_info": {
   "codemirror_mode": {
    "name": "ipython",
    "version": 3
   },
   "file_extension": ".py",
   "mimetype": "text/x-python",
   "name": "python",
   "nbconvert_exporter": "python",
   "pygments_lexer": "ipython3",
   "version": "3.6.9"
  }
 },
 "nbformat": 4,
 "nbformat_minor": 2
}
